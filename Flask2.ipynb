{
 "cells": [
  {
   "cell_type": "markdown",
   "id": "b471d3af-3236-4b24-8143-f3c49d73918b",
   "metadata": {},
   "source": [
    "Q1. Explain GET and POST methods."
   ]
  },
  {
   "cell_type": "code",
   "execution_count": null,
   "id": "93be1569-3c6a-468d-824b-33ef1e57c8a7",
   "metadata": {},
   "outputs": [],
   "source": [
    "Ans:-GET:\n",
    "       i.GET is an HTTP method used to retrieve data from a server.\n",
    "        ii.GET requests should only be used for data retrieval and should not modify any server-side data.\n",
    "        \n",
    "    POST:\n",
    "        i.POST is an HTTP method used to submit data to be processed by the server.\n",
    "         ii.POST requests can contain sensitive data, and the data is not visible in the URL."
   ]
  },
  {
   "cell_type": "markdown",
   "id": "16a41353-ca2c-4f85-bc51-37b0bdedfe21",
   "metadata": {},
   "source": [
    "Q2. Why is request used in Flask?"
   ]
  },
  {
   "cell_type": "code",
   "execution_count": null,
   "id": "1769706f-5a10-4348-8b00-7af87026f167",
   "metadata": {},
   "outputs": [],
   "source": [
    "Ans:-In Flask, the request object is used to access data that is sent by the client to the server.\n",
    "     i.Retrieving form data\n",
    "      ii.Accessing URL Parameters\n",
    "        iii.Working & Cookies\n",
    "          iv.Managing Headers\n",
    "            v.Uploading Files"
   ]
  },
  {
   "cell_type": "markdown",
   "id": "c106cbb2-905a-4b0f-b064-79043a9fdde6",
   "metadata": {},
   "source": [
    "Q3. Why is redirect() used in Flask?"
   ]
  },
  {
   "cell_type": "code",
   "execution_count": null,
   "id": "c346a22b-573f-4e4a-b461-fc833d0e58fc",
   "metadata": {},
   "outputs": [],
   "source": [
    "Ans:-In Flask, the redirect() function is used to redirect the users browser to a different route or URL.\n",
    "      i.Route Redirection\n",
    "       ii.External URL Redirection\n",
    "         iii.Handling Form Submissions\n",
    "            iv.User Authentication"
   ]
  },
  {
   "cell_type": "markdown",
   "id": "4e1aa3d0-413f-4a3c-b7b9-a5fc074f6a4a",
   "metadata": {},
   "source": [
    "Q4. What are templates in Flask? Why is the render_template() function used?"
   ]
  },
  {
   "cell_type": "code",
   "execution_count": null,
   "id": "eee917be-57c0-4fe5-98d9-e28f7bb26c7f",
   "metadata": {},
   "outputs": [],
   "source": [
    "Ans:-In Flask, templates are used to generate dynamic HTML pages by \n",
    "       combining static HTML content with dynamic data from the server.\n",
    "       i.Rendering Templates\n",
    "         ii.Dynamic Content Generation\n",
    "            iii.Template Inheritance\n",
    "            \n",
    "            \n",
    "        By using the render_template() function in Flask,\n",
    "         you can leverage the power of templates to generate dynamic HTML content."
   ]
  },
  {
   "cell_type": "markdown",
   "id": "f9c12600-57fb-4b67-bd55-af47fb57637e",
   "metadata": {},
   "source": [
    "Q5. Create a simple API. Use Postman to test it. Attach the screenshot of the output in the Jupyter Notebook."
   ]
  },
  {
   "cell_type": "code",
   "execution_count": null,
   "id": "b79c3485-1497-4d93-8de4-42809cadf708",
   "metadata": {},
   "outputs": [],
   "source": [
    "Ans:-"
   ]
  }
 ],
 "metadata": {
  "kernelspec": {
   "display_name": "Python 3 (ipykernel)",
   "language": "python",
   "name": "python3"
  },
  "language_info": {
   "codemirror_mode": {
    "name": "ipython",
    "version": 3
   },
   "file_extension": ".py",
   "mimetype": "text/x-python",
   "name": "python",
   "nbconvert_exporter": "python",
   "pygments_lexer": "ipython3",
   "version": "3.10.8"
  }
 },
 "nbformat": 4,
 "nbformat_minor": 5
}
